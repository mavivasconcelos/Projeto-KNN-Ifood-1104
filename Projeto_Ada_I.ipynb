{
  "nbformat": 4,
  "nbformat_minor": 0,
  "metadata": {
    "colab": {
      "provenance": []
    },
    "kernelspec": {
      "name": "python3",
      "display_name": "Python 3"
    },
    "language_info": {
      "name": "python"
    }
  },
  "cells": [
    {
      "cell_type": "markdown",
      "source": [
        "\n",
        "# K-Nearest Neighbors - KNN\n",
        "\n",
        "Modelo supervisionado de machine learning que pode ser utilizado tanto para classificação, isto é, rotular os dados; quanto para regressão, ou seja, aproximar valores.\n",
        "\n",
        "Características:\n",
        "* Dependendo da implementação pode ser  O(n*m) ou O(log(n));\n",
        "* Simples;\n",
        "* Interpretável\n",
        "* Largamente conhecido e estudado\n",
        "* Razoavelmente rápido\n",
        "* Por conta disso é um ótimo benchmark\n",
        "\n",
        "## Algoritmo\n",
        "\n",
        "1. Definir um valor para K;\n",
        "2. Definir os K vizinhos mais próximos do ponto a ser classificado de acordo com uma função de distância;\n",
        "   ```\n",
        "   √(a2-a1)²+(b2-b1)²+(c2-c1)²+(d2-d1)²\n",
        "\n",
        "   Raiz quadrada = (alvo) ** 0.5\n",
        "   ```\n",
        "3. Se for um problema de Regressão: Calcular a média de todos os vizinhos;\n",
        " * Se for um problema de Classificação: Calcular a moda de todos os vizinhos;\n",
        "4. Atribuir o valor/classe ao ponto de interesse conforme cálculo do passo 3;\n",
        "\n",
        "\n",
        "\n"
      ],
      "metadata": {
        "id": "Uy5ZeI8kwFAy"
      }
    },
    {
      "cell_type": "code",
      "execution_count": 3,
      "metadata": {
        "id": "TJCcvU9hvnzT"
      },
      "outputs": [],
      "source": [
        "# dados para implementação do modelo (listas de listas)\n",
        "\n",
        "data = [[66707599984, 'Promotor', (51.00, 35.00, 14.00, 20.0)],\n",
        " [55695397315, 'Promotor', (49.00, 30.00, 14.00, 20.0)],\n",
        " [63743886918, 'Promotor', (47.00, 32.00, 13.00, 20.0)],\n",
        " [55941368774, 'Promotor', (46.00, 31.00, 15.00, 20.0)],\n",
        " [75486280874, 'Promotor', (50.00, 36.00, 14.00, 20.0)],\n",
        " [53164949799, 'Promotor', (54.00, 39.00, 17.00, 40.0)],\n",
        " [39898704131, 'Promotor', (46.00, 34.00, 14.00, 30.0)],\n",
        " [53740901207, 'Promotor', (50.00, 34.00, 15.00, 20.0)],\n",
        " [51735950236, 'Promotor', (44.00, 29.00, 14.00, 20.0)],\n",
        " [47305108951, 'Promotor', (49.00, 31.00, 15.00, 10.0)],\n",
        " [63858864633, 'Promotor', (54.00, 37.00, 15.00, 20.0)],\n",
        " [53363167240, 'Promotor', (48.00, 34.00, 16.00, 20.0)],\n",
        " [72133754195, 'Promotor', (48.00, 30.00, 14.00, 10.0)],\n",
        " [52802483512, 'Promotor', (43.00, 30.00, 11.00, 10.0)],\n",
        " [57925287214, 'Promotor', (48.00, 34.00, 19.00, 20.0)],\n",
        " [74354632224, 'Promotor', (50.00, 30.00, 16.00, 20.0)],\n",
        " [64020216626, 'Promotor', (50.00, 34.00, 16.00, 40.0)],\n",
        " [78223722856, 'Promotor', (52.00, 35.00, 15.00, 20.0)],\n",
        " [58245228846, 'Promotor', (52.00, 34.00, 14.00, 20.0)],\n",
        " [74490686776, 'Promotor', (47.00, 32.00, 16.00, 20.0)],\n",
        " [48646824781, 'Promotor', (48.00, 31.00, 16.00, 20.0)],\n",
        " [77381458676, 'Promotor', (54.00, 34.00, 15.00, 40.0)],\n",
        " [41615431874, 'Promotor', (52.00, 41.00, 15.00, 10.0)],\n",
        " [52163844491, 'Promotor', (55.00, 42.00, 14.00, 20.0)],\n",
        " [70276304567, 'Promotor', (49.00, 31.00, 15.00, 20.0)],\n",
        " [69119828185, 'Promotor', (50.00, 32.00, 12.00, 20.0)],\n",
        " [65441690046, 'Promotor', (55.00, 35.00, 13.00, 20.0)],\n",
        " [56457227894, 'Promotor', (49.00, 36.00, 14.00, 10.0)],\n",
        " [46939428126, 'Promotor', (44.00, 30.00, 13.00, 20.0)],\n",
        " [60979942480, 'Promotor', (51.00, 34.00, 15.00, 20.0)],\n",
        " [41648583220, 'Promotor', (50.00, 35.00, 13.00, 30.0)],\n",
        " [50376331791, 'Promotor', (45.00, 23.00, 13.00, 30.0)],\n",
        " [67008801023, 'Promotor', (44.00, 32.00, 13.00, 20.0)],\n",
        " [72149193419, 'Promotor', (50.00, 35.00, 16.00, 60.0)],\n",
        " [62830733382, 'Promotor', (51.00, 38.00, 19.00, 40.0)],\n",
        " [56716675811, 'Promotor', (48.00, 30.00, 14.00, 30.0)],\n",
        " [61089667146, 'Promotor', (51.00, 38.00, 16.00, 20.0)],\n",
        " [47795509468, 'Promotor', (46.00, 32.00, 14.00, 20.0)],\n",
        " [60899885693, 'Promotor', (53.00, 37.00, 15.00, 20.0)],\n",
        " [53433670705, 'Promotor', (50.00, 33.00, 14.00, 20.0)],\n",
        " [54850120580, 'Neutro', (70.00, 32.00, 47.00, 14.00)],\n",
        " [71457789994, 'Neutro', (64.00, 32.00, 45.00, 15.00)],\n",
        " [67692777563, 'Neutro', (69.00, 31.00, 49.00, 15.00)],\n",
        " [43133573182, 'Neutro', (55.00, 23.00, 40.00, 13.00)],\n",
        " [55150612815, 'Neutro', (65.00, 28.00, 46.00, 15.00)],\n",
        " [48211725243, 'Neutro', (57.00, 28.00, 45.00, 13.00)],\n",
        " [76686463776, 'Neutro', (63.00, 33.00, 47.00, 16.00)],\n",
        " [71971000560, 'Neutro', (49.00, 24.00, 33.00, 10.00)],\n",
        " [40307235992, 'Neutro', (66.00, 29.00, 46.00, 13.00)],\n",
        " [44826533081, 'Neutro', (52.00, 27.00, 39.00, 14.00)],\n",
        " [45735414894, 'Neutro', (59.00, 32.00, 48.00, 18.00)],\n",
        " [57137146514, 'Neutro', (61.00, 28.00, 40.00, 13.00)],\n",
        " [53657058251, 'Neutro', (63.00, 25.00, 49.00, 15.00)],\n",
        " [52941460485, 'Neutro', (61.00, 28.00, 47.00, 12.00)],\n",
        " [44306600683, 'Neutro', (64.00, 29.00, 43.00, 13.00)],\n",
        " [43460747924, 'Neutro', (66.00, 30.00, 44.00, 14.00)],\n",
        " [75590376075, 'Neutro', (68.00, 28.00, 48.00, 14.00)],\n",
        " [68267282206, 'Neutro', (67.00, 30.00, 50.00, 17.00)],\n",
        " [77567920298, 'Neutro', (60.00, 29.00, 45.00, 15.00)],\n",
        " [67600419504, 'Neutro', (57.00, 26.00, 35.00, 10.00)],\n",
        " [44902189811, 'Neutro', (55.00, 24.00, 38.00, 11.00)],\n",
        " [62966866614, 'Neutro', (55.00, 24.00, 37.00, 10.00)],\n",
        " [56182108880, 'Neutro', (58.00, 27.00, 39.00, 12.00)],\n",
        " [78299785392, 'Neutro', (60.00, 27.00, 51.00, 16.00)],\n",
        " [45206071878, 'Neutro', (54.00, 30.00, 45.00, 15.00)],\n",
        " [57381925887, 'Neutro', (60.00, 34.00, 45.00, 16.00)],\n",
        " [65654934891, 'Neutro', (67.00, 31.00, 47.00, 15.00)],\n",
        " [56130640481, 'Neutro', (63.00, 23.00, 44.00, 13.00)],\n",
        " [59667611672, 'Neutro', (56.00, 30.00, 41.00, 13.00)],\n",
        " [40349334385, 'Neutro', (55.00, 25.00, 40.00, 13.00)],\n",
        " [68422640081, 'Neutro', (55.00, 26.00, 44.00, 12.00)],\n",
        " [55245923439, 'Neutro', (61.00, 30.00, 46.00, 14.00)],\n",
        " [51286696873, 'Neutro', (58.00, 26.00, 40.00, 12.00)],\n",
        " [41065279767, 'Neutro', (50.00, 23.00, 33.00, 10.00)],\n",
        " [42866454119, 'Neutro', (56.00, 27.00, 42.00, 13.00)],\n",
        " [61962944542, 'Neutro', (57.00, 30.00, 42.00, 12.00)],\n",
        " [48623501235, 'Neutro', (57.00, 29.00, 42.00, 13.00)],\n",
        " [49475220139, 'Neutro', (62.00, 29.00, 43.00, 13.00)],\n",
        " [52245218531, 'Neutro', (51.00, 25.00, 30.00, 11.00)],\n",
        " [50932926697, 'Neutro', (57.00, 28.00, 41.00, 13.00)],\n",
        " [47432932248, 'Detrator', (63.00, 33.00, 60.00, 25.00)],\n",
        " [39321991579, 'Detrator', (58.00, 27.00, 51.00, 19.00)],\n",
        " [46283759608, 'Detrator', (71.00, 30.00, 59.00, 21.00)],\n",
        " [56996272538, 'Detrator', (63.00, 29.00, 56.00, 18.00)],\n",
        " [77232189978, 'Detrator', (65.00, 30.00, 58.00, 22.00)],\n",
        " [77183282421, 'Detrator', (76.00, 30.00, 66.00, 21.00)],\n",
        " [42857147573, 'Detrator', (49.00, 25.00, 45.00, 17.00)],\n",
        " [39331584043, 'Detrator', (73.00, 29.00, 63.00, 18.00)],\n",
        " [48130345228, 'Detrator', (67.00, 25.00, 58.00, 18.00)],\n",
        " [71422443953, 'Detrator', (72.00, 36.00, 61.00, 25.00)],\n",
        " [72508507904, 'Detrator', (69.00, 32.00, 57.00, 23.00)],\n",
        " [41188727558, 'Detrator', (56.00, 28.00, 49.00, 20.00)],\n",
        " [61358776640, 'Detrator', (77.00, 28.00, 67.00, 20.00)],\n",
        " [66934042323, 'Detrator', (63.00, 27.00, 49.00, 18.00)],\n",
        " [40622495567, 'Detrator', (67.00, 33.00, 57.00, 21.00)],\n",
        " [57221661311, 'Detrator', (72.00, 32.00, 60.00, 18.00)],\n",
        " [45159362930, 'Detrator', (62.00, 28.00, 48.00, 18.00)],\n",
        " [45018975174, 'Detrator', (61.00, 30.00, 49.00, 18.00)],\n",
        " [70685429140, 'Detrator', (64.00, 28.00, 56.00, 21.00)],\n",
        " [61808723477, 'Detrator', (72.00, 30.00, 58.00, 16.00)],\n",
        " [56363906548, 'Detrator', (74.00, 28.00, 61.00, 19.00)],\n",
        " [39646194720, 'Detrator', (79.00, 38.00, 64.00, 20.00)],\n",
        " [55385494438, 'Detrator', (64.00, 28.00, 56.00, 22.00)],\n",
        " [75796138061, 'Detrator', (63.00, 28.00, 51.00, 15.00)],\n",
        " [53595767857, 'Detrator', (61.00, 26.00, 56.00, 14.00)],\n",
        " [48758828080, 'Detrator', (77.00, 30.00, 61.00, 23.00)],\n",
        " [58387651356, 'Detrator', (63.00, 34.00, 56.00, 24.00)],\n",
        " [72846931192, 'Detrator', (64.00, 31.00, 55.00, 18.00)],\n",
        " [47046896346, 'Detrator', (60.00, 30.00, 48.00, 18.00)],\n",
        " [69730292799, 'Detrator', (69.00, 31.00, 54.00, 21.00)],\n",
        " [48177836349, 'Detrator', (67.00, 31.00, 56.00, 24.00)],\n",
        " [57976326635, 'Detrator', (69.00, 31.00, 51.00, 23.00)],\n",
        " [55710813002, 'Detrator', (58.00, 27.00, 51.00, 19.00)],\n",
        " [64028580439, 'Detrator', (68.00, 32.00, 59.00, 23.00)],\n",
        " [49962942971, 'Detrator', (67.00, 33.00, 57.00, 25.00)],\n",
        " [47250893163, 'Detrator', (67.00, 30.00, 52.00, 23.00)],\n",
        " [75559276274, 'Detrator', (63.00, 25.00, 50.00, 19.00)],\n",
        " [58529878272, 'Detrator', (65.00, 30.00, 52.00, 20.00)],\n",
        " [76005896622, 'Detrator', (62.00, 34.00, 54.00, 23.00)],\n",
        "  [49212614633, 'Detrator', (59.00, 30.00, 51.00, 18.00)]]\n",
        "\n",
        "no_class = [[45926320819, '', (58.00, 40.00, 12.00, 20.0)],\n",
        " [52559670741, '', (57.00, 44.00, 15.00, 40.0)],\n",
        " [59016004832, '', (54.00, 39.00, 13.00, 40.0)],\n",
        " [66175672425, '', (51.00, 35.00, 14.00, 30.0)],\n",
        " [53330429526, '', (57.00, 38.00, 17.00, 30.0)],\n",
        " [43765563403, '', (51.00, 38.00, 15.00, 30.0)],\n",
        " [68020822591, '', (54.00, 34.00, 17.00, 20.0)],\n",
        " [53939481689, '', (51.00, 37.00, 15.00, 40.0)],\n",
        " [47014057561, '', (46.00, 36.00, 10.00, 20.0)],\n",
        " [57183542047, '', (51.00, 33.00, 17.00, 50.0)],\n",
        "\n",
        " [68518284363, '', (50.00, 20.00, 35.00, 10.00)],\n",
        " [65806049885, '', (59.00, 30.00, 42.00, 15.00)],\n",
        " [54128073086, '', (60.00, 22.00, 40.00, 10.00)],\n",
        " [41306785494, '', (61.00, 29.00, 47.00, 14.00)],\n",
        " [65234831039, '', (56.00, 29.00, 36.00, 13.00)],\n",
        " [50964498067, '', (67.00, 31.00, 44.00, 14.00)],\n",
        " [50810951429, '', (56.00, 30.00, 45.00, 15.00)],\n",
        " [48765044397, '', (58.00, 27.00, 41.00, 10.00)],\n",
        " [41960083761, '', (62.00, 22.00, 45.00, 15.00)],\n",
        " [76657763082, '', (56.00, 25.00, 39.00, 11.00)],\n",
        "\n",
        " [64726487742, '', (65.00, 32.00, 51.00, 20.00)],\n",
        " [75746566283, '', (64.00, 27.00, 53.00, 19.00)],\n",
        " [78576734793, '', (68.00, 30.00, 55.00, 21.00)],\n",
        " [56440141847, '', (57.00, 25.00, 50.00, 20.00)],\n",
        " [66827423000, '', (58.00, 28.00, 51.00, 24.00)],\n",
        " [45267873396, '', (64.00, 32.00, 53.00, 23.00)],\n",
        " [46387191493, '', (65.00, 30.00, 55.00, 18.00)],\n",
        " [54273611732, '', (77.00, 38.00, 67.00, 22.00)],\n",
        " [75135392881, '', (77.00, 26.00, 69.00, 23.00)],\n",
        "  [64703873108, '', (60.00, 22.00, 50.00, 15.00)]]"
      ]
    },
    {
      "cell_type": "markdown",
      "source": [
        "## Primeiro passo, definição de variáveis e funções\n",
        " * Atribuir um valor de k;\n",
        " * Setar listas (acima) a serem trabalhadas;\n",
        " * Criar as funçoes de trabalho;\n",
        " * Criar as variáveis de trabalho;\n",
        " * Abordagem **classificação**\n",
        " * Organização para separação do código e debbuging/deploy\n",
        " * Sempre que não atrapalhar o curso das funções, as variáveis ficam como globais nesse ponto"
      ],
      "metadata": {
        "id": "IXuhWRhJzwZB"
      }
    },
    {
      "cell_type": "code",
      "source": [
        "# Variáveis Globais para deploy/debug\n",
        "\n",
        "k = 3 #tem que ser global, é usada em mais de uma função\n",
        "# resultados = [] # usada no segundo passo\n",
        "# distancias = [] # usada no segundo passo\n",
        "\n",
        "# Funçao para raiz quadrada, apenas para simplificar (Lembre-se, não pode usar math/sqrt)\n",
        "def raiz(numero):\n",
        "  return numero ** 0.5\n",
        "\n",
        "#Função para aplicar a distancia euclidiana entre as tuplas com os valores das listas (Lembre-se, não pode usar math/sqrt)\n",
        "def distancia_euclidiana (lista_controle, lista_analise):\n",
        "  a1, b1, c1, d1 = lista_controle # Essas duas variáves serão tuplas\n",
        "  a2, b2, c2, d2 = lista_analise\n",
        "  return raiz(((a2-a1)**2)+((b2-b1)**2)+((c2-c1)**2)+((d2-d1)**2))\n",
        "\n",
        "#Função auxiliar para oter a distancia de um item específico em distância, cujo intuito é simplesmente não usar uma função lambda (que até esse ponto não havia sido ensinada)\n",
        "def obter_distancia(item):\n",
        "  return item[1]\n",
        "\n",
        "# Função para cálculo de moda (ocorrencia mais comum) entre as distâncias mais próximas dos candidatos à analise (não pode usar statistcs/moda)\n",
        "def calcular_moda(rotulos):\n",
        "    contagem_rotulos = {}  # Dicionário para contar a ocorrência de cada rótulo, esse se setado como global gera erro na função (ainda não entendi o porquê)\n",
        "    for rotulo in rotulos: # Esse for basicamente contabiliza a ocorrencia de tipo de rotulo, alimentando o dicionário interno\n",
        "        if rotulo in contagem_rotulos:\n",
        "            contagem_rotulos[rotulo] += 1\n",
        "        else:\n",
        "            contagem_rotulos[rotulo] = 1\n",
        "\n",
        "    # Encontrar o rótulo com a maior contagem, basicmanete o for vai lá e analisa nosso dicionário\n",
        "    moda = None\n",
        "    max_contagem = 0 # Outra vairável interna, fora da função deu problema também\n",
        "    for rotulo, contagem in contagem_rotulos.items():\n",
        "        if contagem > max_contagem:\n",
        "            moda = rotulo\n",
        "            max_contagem = contagem\n",
        "    return moda"
      ],
      "metadata": {
        "id": "u0AUU7EY0ICe"
      },
      "execution_count": 28,
      "outputs": []
    },
    {
      "cell_type": "markdown",
      "source": [
        "### 2º Passo\n",
        "\n",
        "* calcular as distâncias entre o ponto a ser classificado e todos os pontos de dados no conjunto de treinamento e, em seguida,\n",
        "* selecionar os K pontos mais próximos."
      ],
      "metadata": {
        "id": "ZXuOb_0d9YNK"
      }
    },
    {
      "cell_type": "code",
      "source": [
        "# Entradas nesse ponto: data e no Class\n",
        "# Funções utilizadas distancia_euclidiana e obter_distancia\n",
        "\n",
        "# Rotina que a cada ponto de data e no_class, junta, calcula a função e joga o resultado em distancias\n",
        "for ponto_a_classificar in no_class:\n",
        "\n",
        "  for ponto in data:\n",
        "    dist = distancia_euclidiana(ponto[2], ponto_a_classificar[2])\n",
        "    distancias.append((ponto, dist))\n",
        "\n",
        "    # Ordenar a lista de acordo com a distância\n",
        "    distancias.sort(key=obter_distancia)\n",
        "\n",
        "    # Selecionar os K pontos mais próximos\n",
        "    k_pontos_proximos = distancias[:k]\n",
        "\n",
        "    resultados.append((ponto_a_classificar, k_pontos_proximos))\n",
        "\n",
        "# Saidas pontos_a_classificar, K_pontos_proximos, distancias e resultados\n",
        "# Ponto_a_classificar pinça exatamente um item a classificar em no_class\n",
        "# K_pontos próximos pega os mais próximos vizinho de um ponto\n",
        "# Neste ponto, em distancias está armazenado as  comparações com as distâncias obtidas, em ordem crescente sendo cada linha um item de \"data\"\n",
        "# Neste ponto, resultados está armazenando um padrão de centenas de linhas de comparação para cada CPF de no_class"
      ],
      "metadata": {
        "id": "OPbcgSp69Y8c"
      },
      "execution_count": 29,
      "outputs": []
    },
    {
      "cell_type": "code",
      "source": [
        "#display(moda)\n"
      ],
      "metadata": {
        "id": "a3gYJmlnWA2e"
      },
      "execution_count": null,
      "outputs": []
    },
    {
      "cell_type": "code",
      "source": [
        "display(resultados)"
      ],
      "metadata": {
        "id": "nd7nQl1ddxdR"
      },
      "execution_count": null,
      "outputs": []
    },
    {
      "cell_type": "code",
      "source": [
        "display(k_pontos_proximos)"
      ],
      "metadata": {
        "id": "4qRq8c_0ljAa"
      },
      "execution_count": null,
      "outputs": []
    },
    {
      "cell_type": "markdown",
      "source": [
        "### 3º Passo\n",
        "* Calcular a moda de todos os vizinhos;\n",
        "\n"
      ],
      "metadata": {
        "id": "mDafOEG3B2yx"
      }
    },
    {
      "cell_type": "code",
      "source": [
        "# entradas k_pontos_proximos\n",
        "# função utilizada calcular_moda\n",
        "\n",
        "# pinça cada rotulo de cada vizinho de um ponto específico em k_pontos_proximos\n",
        "rotulos_vizinhos = [ponto[0][1] for ponto in resultados]\n",
        "# verifica qual deles é o mais recorrente\n",
        "moda = calcular_moda(rotulos_vizinhos)\n",
        "\n",
        "# saídas rótulos-vizinhos e moda\n",
        "# rotulos_vizinhos armazena os k rótulos doz vizinho de um ponto de intersse\n",
        "# moda armazena o vgalor mais comum e possível classificação dele"
      ],
      "metadata": {
        "id": "si2Z6kfA214U"
      },
      "execution_count": 43,
      "outputs": []
    },
    {
      "cell_type": "code",
      "source": [
        "display(rotulos_vizinhos)\n"
      ],
      "metadata": {
        "id": "8CRE8wNj-zaX"
      },
      "execution_count": null,
      "outputs": []
    },
    {
      "cell_type": "code",
      "source": [
        "display(moda)"
      ],
      "metadata": {
        "id": "RScChttmQIv8"
      },
      "execution_count": null,
      "outputs": []
    },
    {
      "cell_type": "markdown",
      "source": [
        "### 4º Passo\n",
        "\n",
        "* Atribuir o valor/classe ao ponto de interesse conforme cálculo do passo 3;"
      ],
      "metadata": {
        "id": "Ck-aKkUsE4Rn"
      }
    },
    {
      "cell_type": "code",
      "source": [
        "#Entradas: no_class e moda\n",
        "\n",
        "# Pega os pontos a avaliar e se elestiverem vazio põe a moda no lugar, imprime resultado.\n",
        "for ponto_a_classificar in no_class:\n",
        "    if ponto_a_classificar[1] == '':\n",
        "        ponto_a_classificar[1] = moda\n",
        "        print(f\"CPF: {ponto_a_classificar[0]}, Classificação NPS: {moda}\")\n",
        "\n",
        "#saída print com no class reclassificado com a respectiva moda"
      ],
      "metadata": {
        "id": "MW8oj-4LFrnC"
      },
      "execution_count": 38,
      "outputs": []
    },
    {
      "cell_type": "markdown",
      "source": [
        "#Dumping - anotações e racunhos"
      ],
      "metadata": {
        "id": "6k6tbMVdFsPh"
      }
    },
    {
      "cell_type": "markdown",
      "source": [],
      "metadata": {
        "id": "J4rN6fAJaI5t"
      }
    },
    {
      "cell_type": "code",
      "source": [],
      "metadata": {
        "id": "I71gtoZsCItq"
      },
      "execution_count": null,
      "outputs": []
    }
  ]
}